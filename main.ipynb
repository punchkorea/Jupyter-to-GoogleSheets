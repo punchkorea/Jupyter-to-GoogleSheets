{
 "cells": [
  {
   "cell_type": "markdown",
   "metadata": {},
   "source": [
    "# Connecting to Google API\n"
   ]
  },
  {
   "cell_type": "code",
   "execution_count": 1,
   "metadata": {},
   "outputs": [],
   "source": [
    "#import libraries\n",
    "import pandas as pd \n",
    "import gspread "
   ]
  },
  {
   "cell_type": "code",
   "execution_count": 2,
   "metadata": {},
   "outputs": [],
   "source": [
    "#taking Google APi credentials\n",
    "from oauth2client.service_account import ServiceAccountCredentials"
   ]
  },
  {
   "cell_type": "code",
   "execution_count": 3,
   "metadata": {},
   "outputs": [],
   "source": [
    "scope = ['https://spreadsheets.google.com/feeds',\n",
    "         'https://www.googleapis.com/auth/drive']\n",
    "credentials = ServiceAccountCredentials.from_json_keyfile_name('./daily-articles.json', scope) \n",
    "gc = gspread.authorize(credentials)"
   ]
  },
  {
   "cell_type": "code",
   "execution_count": 4,
   "metadata": {},
   "outputs": [],
   "source": [
    "#google spreadsheet key in share url\n",
    "spreadsheet_key = '1I2huckhoF6dcffty9VCGf2vHULdmfvp_4yIZAxumkIw' "
   ]
  },
  {
   "cell_type": "markdown",
   "metadata": {},
   "source": [
    "# Requesting Info from Naver News"
   ]
  },
  {
   "cell_type": "code",
   "execution_count": 5,
   "metadata": {},
   "outputs": [],
   "source": [
    "#importing libraries for web scraping \n",
    "import requests\n",
    "from bs4 import BeautifulSoup\n",
    "import numpy as np\n",
    "import time\n",
    "from datetime import date\n",
    "#import library for connecting Google Sheets and Jupyter\n",
    "from df2gspread import df2gspread as d2g"
   ]
  },
  {
   "cell_type": "code",
   "execution_count": 6,
   "metadata": {},
   "outputs": [],
   "source": [
    "#list of keywords we will use\n",
    "keywords = [\"터키리라\",\"리라화\",\"터키환율\",\"해외투자\",\"해외진출\",\"터키 무역\",\"터키 스타트업\",\"터키 바이오\",\"터키 첨단산업\",\"터키 경제\"]"
   ]
  },
  {
   "cell_type": "code",
   "execution_count": 7,
   "metadata": {},
   "outputs": [],
   "source": [
    "\n",
    "url_list = []\n",
    "key_list = {}\n",
    "for n in np.arange(0, len(keywords)):\n",
    "    #getting page content for each keyword\n",
    "    url_each = \"https://m.search.naver.com/search.naver?where=m_news&query=\"+keywords[n]+\"&sm=mtb_opt&sort=1&photo=0&field=0&pd=0&ds=&de=&docid=&related=0&mynews=0&office_type=0&office_section_code=0&news_office_checked=&nso=so%3Add%2Cp%3Aall&is_sug_officeid=0\"\n",
    "    #this url uses \"최신순\" sorting\n",
    "    url_list.append(url_each)\n",
    "    r = requests.get(url_each)\n",
    "    page = r.content\n",
    "    soup = BeautifulSoup(page, 'html5lib')\n",
    "    news = soup.find_all('a', class_='news_tit')\n",
    "    if keywords[n] not in key_list:\n",
    "        key_list[keywords[n]] = news\n"
   ]
  },
  {
   "cell_type": "code",
   "execution_count": 8,
   "metadata": {},
   "outputs": [],
   "source": [
    "big_list = [[\"Keyword\",\"Date\",\"Article\",\"Link\"]]\n",
    "for key in key_list:\n",
    "      \n",
    "    #getting details for each keyword\n",
    "    number_of_articles = len(key_list[key]) #default 15 articles per page\n",
    "    list_links = []\n",
    "    list_titles = []\n",
    "   \n",
    "    for n in np.arange(0, number_of_articles):\n",
    "    \n",
    "            # Getting the link of the article\n",
    "        link = news[n]['href']\n",
    "        list_links.append(link)\n",
    "\n",
    "            # Getting the title\n",
    "        title = news[n].get_text()\n",
    "        list_titles.append(title)\n",
    "    #     big_list.append(key:{\n",
    "    #         \"Articles\" :list_titles,\n",
    "    #         \"Links\":list_links\n",
    "    #     })\n",
    "    #     big_list[key] = {\n",
    "    #         \"Articles\":list_titles,\n",
    "    #          \"Links\":list_links}\n",
    "        big_list.append([key,str(date.today()),title, link])"
   ]
  },
  {
   "cell_type": "code",
   "execution_count": 9,
   "metadata": {},
   "outputs": [
    {
     "data": {
      "text/plain": [
       "151"
      ]
     },
     "execution_count": 9,
     "metadata": {},
     "output_type": "execute_result"
    }
   ],
   "source": [
    "#big array of 10(keywords)*15(articles per keyword) => 150 rows\n",
    "len(big_list)"
   ]
  },
  {
   "cell_type": "markdown",
   "metadata": {},
   "source": [
    "# Sending Data to Google Sheets"
   ]
  },
  {
   "cell_type": "code",
   "execution_count": 10,
   "metadata": {},
   "outputs": [
    {
     "data": {
      "text/plain": [
       "<Worksheet '2021-06-17 Articles' id:1792356366>"
      ]
     },
     "execution_count": 10,
     "metadata": {},
     "output_type": "execute_result"
    }
   ],
   "source": [
    "today = date.today()\n",
    "wks_name = str(today) + ' Articles'\n",
    "table =  pd.DataFrame(big_list)\n",
    "d2g.upload(table, spreadsheet_key, wks_name, credentials=credentials, row_names=True)"
   ]
  },
  {
   "cell_type": "markdown",
   "metadata": {},
   "source": [
    "# Unused code"
   ]
  },
  {
   "cell_type": "code",
   "execution_count": 61,
   "metadata": {},
   "outputs": [],
   "source": [
    "# def makeTable(key):\n",
    "#     data_keyword = pd.DataFrame({\n",
    "#     \"Keyword\": key,\n",
    "#     \"Date\": str(date.today()),\n",
    "#     'Article Tiiitle': big_list[key]['Articles'],\n",
    "#     'Article Link': big_list[key]['Links'],\n",
    "# })\n",
    "#     return data_keyword"
   ]
  },
  {
   "cell_type": "code",
   "execution_count": 26,
   "metadata": {},
   "outputs": [],
   "source": [
    "# table = makeTable(keywords[0])\n",
    "# for n in np.arange(1, len(keywords)):\n",
    "#     table2 = makeTable(keywords[n])\n",
    "#     table = table.append(table2)\n",
    "    \n",
    "# print(table)\n"
   ]
  },
  {
   "cell_type": "code",
   "execution_count": 110,
   "metadata": {},
   "outputs": [],
   "source": [
    "# df = table\n",
    "# df = df.applymap(str)\n",
    "# df = df.groupby('Keyword')\n"
   ]
  }
 ],
 "metadata": {
  "kernelspec": {
   "display_name": "Python 3",
   "language": "python",
   "name": "python3"
  },
  "language_info": {
   "codemirror_mode": {
    "name": "ipython",
    "version": 3
   },
   "file_extension": ".py",
   "mimetype": "text/x-python",
   "name": "python",
   "nbconvert_exporter": "python",
   "pygments_lexer": "ipython3",
   "version": "3.8.3"
  }
 },
 "nbformat": 4,
 "nbformat_minor": 4
}
